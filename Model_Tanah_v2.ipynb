{
  "cells": [
    {
      "cell_type": "markdown",
      "metadata": {
        "id": "view-in-github",
        "colab_type": "text"
      },
      "source": [
        "<a href=\"https://colab.research.google.com/github/NizarArdansyah/Capstone-Project-Machine-Learning/blob/main/Model_Tanah_v2.ipynb\" target=\"_parent\"><img src=\"https://colab.research.google.com/assets/colab-badge.svg\" alt=\"Open In Colab\"/></a>"
      ]
    },
    {
      "cell_type": "code",
      "execution_count": 1,
      "metadata": {
        "id": "fTaS80Hn4edu"
      },
      "outputs": [],
      "source": [
        "from google.colab import drive"
      ],
      "id": "fTaS80Hn4edu"
    },
    {
      "cell_type": "code",
      "execution_count": 2,
      "metadata": {
        "colab": {
          "base_uri": "https://localhost:8080/"
        },
        "id": "4ddb1314",
        "outputId": "e065faec-7ad6-4e5b-a287-365605615d13"
      },
      "outputs": [
        {
          "output_type": "stream",
          "name": "stdout",
          "text": [
            "Mounted at /content/drive/\n"
          ]
        }
      ],
      "source": [
        "import os\n",
        "import zipfile\n",
        "import random\n",
        "import shutil\n",
        "import tensorflow as tf\n",
        "from tensorflow.keras.preprocessing.image import ImageDataGenerator\n",
        "from shutil import copyfile\n",
        "import matplotlib.pyplot as plt\n",
        "\n",
        "drive.mount('/content/drive/')"
      ],
      "id": "4ddb1314"
    },
    {
      "cell_type": "code",
      "execution_count": 3,
      "metadata": {
        "colab": {
          "base_uri": "https://localhost:8080/"
        },
        "id": "K8-FzGzk5UKm",
        "outputId": "09cdf794-5511-4d2e-c66a-538b7026e2ff"
      },
      "outputs": [
        {
          "output_type": "stream",
          "name": "stdout",
          "text": [
            "Soil_Types  Soil_Types_Splited\n"
          ]
        }
      ],
      "source": [
        "base_dir = '/content/drive/My Drive/Capstone/'\n",
        "!ls \"/content/drive/My Drive/Capstone/\""
      ],
      "id": "K8-FzGzk5UKm"
    },
    {
      "cell_type": "code",
      "source": [
        "!pip install split-folders"
      ],
      "metadata": {
        "id": "UtqDpFINxZ2k",
        "outputId": "4ce014b5-eedf-4048-8aa0-508661c3f0a3",
        "colab": {
          "base_uri": "https://localhost:8080/"
        }
      },
      "id": "UtqDpFINxZ2k",
      "execution_count": 5,
      "outputs": [
        {
          "output_type": "stream",
          "name": "stdout",
          "text": [
            "Looking in indexes: https://pypi.org/simple, https://us-python.pkg.dev/colab-wheels/public/simple/\n",
            "Collecting split-folders\n",
            "  Downloading split_folders-0.5.1-py3-none-any.whl (8.4 kB)\n",
            "Installing collected packages: split-folders\n",
            "Successfully installed split-folders-0.5.1\n"
          ]
        }
      ]
    },
    {
      "cell_type": "code",
      "execution_count": 118,
      "metadata": {
        "id": "L0rF8KED566_",
        "outputId": "98991676-de9f-41e2-96b5-a37587bc6295",
        "colab": {
          "base_uri": "https://localhost:8080/"
        }
      },
      "outputs": [
        {
          "output_type": "stream",
          "name": "stderr",
          "text": [
            "Copying files: 70 files [00:00, 99.86 files/s]\n"
          ]
        }
      ],
      "source": [
        "soil_dir = os.path.join(base_dir, 'Soil_Types')\n",
        "split_dir = os.path.join(base_dir, 'Soil_Types_Splited')\n",
        "import splitfolders \n",
        "\n",
        "splitfolders.ratio(soil_dir, output=split_dir, seed=42, ratio=(0.9,0.1), group_prefix=None)\n",
        "training_dir = os.path.join(split_dir, 'train')\n",
        "validation_dir = os.path.join(split_dir, 'val')"
      ],
      "id": "L0rF8KED566_"
    },
    {
      "cell_type": "code",
      "execution_count": 119,
      "metadata": {
        "colab": {
          "base_uri": "https://localhost:8080/"
        },
        "id": "c7hvG4U66aZF",
        "outputId": "357caf62-851a-4f29-e298-a4edc3975f2c"
      },
      "outputs": [
        {
          "output_type": "stream",
          "name": "stdout",
          "text": [
            "Jumlah Data Train Tiap Kelas\n",
            "Jumlah gambar tanah liat : 29\n",
            "Jumlah gambar tanah aluvial : 11\n",
            "Jumlah gambar tanah laterit : 30\n"
          ]
        }
      ],
      "source": [
        "# kuning_dir = os.path.join(soil_dir, 'Tanah_Kuning/')\n",
        "# berpasir_dir = os.path.join(soil_dir, 'Tanah_Berpasir/')\n",
        "# geluh_dir = os.path.join(soil_dir, 'Tanah_Geluh/')\n",
        "liat_dir = os.path.join(soil_dir, 'Tanah_Liat/')\n",
        "aluvial_dir = os.path.join(soil_dir, 'Tanah_Aluvial/')\n",
        "# gambut_dir = os.path.join(soil_dir, 'Tanah_Gambut/')\n",
        "laterit_dir = os.path.join(soil_dir, 'Tanah_Laterit/')\n",
        "# vulkanik_dir = os.path.join(soil_dir, 'Tanah_Vulkanik/')\n",
        "\n",
        "print(\"Jumlah Data Train Tiap Kelas\")\n",
        "# print(\"Jumlah gambar tanah kuning :\", len(os.listdir(kuning_dir)))\n",
        "# print(\"Jumlah gambar tanah berpasir :\", len(os.listdir(berpasir_dir)))\n",
        "# print(\"Jumlah gambar tanah geluh :\", len(os.listdir(geluh_dir)))\n",
        "print(\"Jumlah gambar tanah liat :\", len(os.listdir(liat_dir)))\n",
        "print(\"Jumlah gambar tanah aluvial :\", len(os.listdir(aluvial_dir)))\n",
        "# print(\"Jumlah gambar tanah gambut :\", len(os.listdir(gambut_dir)))\n",
        "print(\"Jumlah gambar tanah laterit :\", len(os.listdir(laterit_dir)))\n",
        "# print(\"Jumlah gambar tanah vulkanik :\", len(os.listdir(vulkanik_dir)))"
      ],
      "id": "c7hvG4U66aZF"
    },
    {
      "cell_type": "code",
      "source": [
        "n_batch = 32"
      ],
      "metadata": {
        "id": "urlFZAGw-hwv"
      },
      "id": "urlFZAGw-hwv",
      "execution_count": 120,
      "outputs": []
    },
    {
      "cell_type": "code",
      "execution_count": 121,
      "metadata": {
        "cellView": "code",
        "id": "35525d12"
      },
      "outputs": [],
      "source": [
        "def train_val_generators(training_dir, validation_dir):\n",
        "\n",
        "  train_datagen = ImageDataGenerator(rescale=1.0/255.,\n",
        "                                     rotation_range=10,\n",
        "                                     width_shift_range=0.1,\n",
        "                                     height_shift_range=0.1,\n",
        "                                     shear_range=0.2,\n",
        "                                     zoom_range=0.2,\n",
        "                                     horizontal_flip=True)\n",
        "\n",
        "  train_generator = train_datagen.flow_from_directory(directory=training_dir,\n",
        "                                                      batch_size=n_batch,\n",
        "                                                      class_mode='categorical',\n",
        "                                                      target_size=(150, 150))\n",
        "\n",
        "  validation_datagen = ImageDataGenerator(rescale=1.0/255.)\n",
        "\n",
        "  validation_generator = validation_datagen.flow_from_directory(directory=validation_dir,\n",
        "                                                                batch_size=n_batch,\n",
        "                                                                class_mode='categorical',\n",
        "                                                                shuffle= False,\n",
        "                                                                target_size=(150, 150))\n",
        " \n",
        "  return train_generator, validation_generator"
      ],
      "id": "35525d12"
    },
    {
      "cell_type": "code",
      "execution_count": 122,
      "metadata": {
        "colab": {
          "base_uri": "https://localhost:8080/"
        },
        "id": "d2198ef1",
        "outputId": "5af37e52-e473-457d-e406-7cf2495ea300"
      },
      "outputs": [
        {
          "output_type": "stream",
          "name": "stdout",
          "text": [
            "Found 65 images belonging to 3 classes.\n",
            "Found 11 images belonging to 3 classes.\n"
          ]
        }
      ],
      "source": [
        "train_generator, validation_generator = train_val_generators(training_dir, validation_dir)"
      ],
      "id": "d2198ef1"
    },
    {
      "cell_type": "code",
      "source": [
        "for image_batch, label_batch in train_generator:\n",
        "  break\n",
        "  image_batch.shape, label_batch.shape"
      ],
      "metadata": {
        "id": "G5qA5gOU4Oco"
      },
      "id": "G5qA5gOU4Oco",
      "execution_count": 123,
      "outputs": []
    },
    {
      "cell_type": "code",
      "source": [
        "print (train_generator.class_indices)"
      ],
      "metadata": {
        "id": "QQsDzbjD4PQZ",
        "outputId": "3d83a8ce-215a-46ba-aee5-43a0a3b360b8",
        "colab": {
          "base_uri": "https://localhost:8080/"
        }
      },
      "id": "QQsDzbjD4PQZ",
      "execution_count": 124,
      "outputs": [
        {
          "output_type": "stream",
          "name": "stdout",
          "text": [
            "{'Tanah_Aluvial': 0, 'Tanah_Laterit': 1, 'Tanah_Liat': 2}\n"
          ]
        }
      ]
    },
    {
      "cell_type": "code",
      "execution_count": 125,
      "metadata": {
        "id": "XcQcpGNvCK4i"
      },
      "outputs": [],
      "source": [
        "from tensorflow.keras.optimizers import Adam\n",
        "from tensorflow.keras.models import Model\n"
      ],
      "id": "XcQcpGNvCK4i"
    },
    {
      "cell_type": "code",
      "source": [
        "class myCallback(tf.keras.callbacks.Callback):\n",
        "  def on_epoch_end(self,epoch, logs = {}):\n",
        "    if(logs.get('accuracy') > 0.91):\n",
        "      print('Akurasi mencapai >90%')\n",
        "      self.model.stop_training = True\n",
        "\n",
        "callbacks = myCallback()      "
      ],
      "metadata": {
        "id": "W-OJTQVlkvpz"
      },
      "id": "W-OJTQVlkvpz",
      "execution_count": 126,
      "outputs": []
    },
    {
      "cell_type": "code",
      "execution_count": 127,
      "metadata": {
        "cellView": "code",
        "id": "d88b8b62"
      },
      "outputs": [],
      "source": [
        "model = tf.keras.models.Sequential([ \n",
        "    tf.keras.layers.Conv2D(16, (3,3), activation='relu', input_shape=(150, 150, 3)),\n",
        "    tf.keras.layers.MaxPooling2D(2, 2),\n",
        "    tf.keras.layers.Conv2D(32, (3,3), activation='relu'),\n",
        "    tf.keras.layers.MaxPooling2D(2,2),\n",
        "    tf.keras.layers.Conv2D(64, (3,3), activation='relu'),\n",
        "    tf.keras.layers.MaxPooling2D(2,2),\n",
        "    tf.keras.layers.Flatten(),\n",
        "    tf.keras.layers.Dense(128, activation='relu'),\n",
        "    tf.keras.layers.Dropout(0.5),\n",
        "    tf.keras.layers.Dense(3, activation='softmax')\n",
        "  ])\n"
      ],
      "id": "d88b8b62"
    },
    {
      "cell_type": "code",
      "execution_count": 128,
      "metadata": {
        "colab": {
          "base_uri": "https://localhost:8080/"
        },
        "id": "0DydP521HwoS",
        "outputId": "1965b393-ef02-49b6-8305-ef7d746c9a0f"
      },
      "outputs": [
        {
          "output_type": "stream",
          "name": "stdout",
          "text": [
            "Model: \"sequential_4\"\n",
            "_________________________________________________________________\n",
            " Layer (type)                Output Shape              Param #   \n",
            "=================================================================\n",
            " conv2d_12 (Conv2D)          (None, 148, 148, 16)      448       \n",
            "                                                                 \n",
            " max_pooling2d_12 (MaxPoolin  (None, 74, 74, 16)       0         \n",
            " g2D)                                                            \n",
            "                                                                 \n",
            " conv2d_13 (Conv2D)          (None, 72, 72, 32)        4640      \n",
            "                                                                 \n",
            " max_pooling2d_13 (MaxPoolin  (None, 36, 36, 32)       0         \n",
            " g2D)                                                            \n",
            "                                                                 \n",
            " conv2d_14 (Conv2D)          (None, 34, 34, 64)        18496     \n",
            "                                                                 \n",
            " max_pooling2d_14 (MaxPoolin  (None, 17, 17, 64)       0         \n",
            " g2D)                                                            \n",
            "                                                                 \n",
            " flatten_4 (Flatten)         (None, 18496)             0         \n",
            "                                                                 \n",
            " dense_8 (Dense)             (None, 128)               2367616   \n",
            "                                                                 \n",
            " dropout_4 (Dropout)         (None, 128)               0         \n",
            "                                                                 \n",
            " dense_9 (Dense)             (None, 3)                 387       \n",
            "                                                                 \n",
            "=================================================================\n",
            "Total params: 2,391,587\n",
            "Trainable params: 2,391,587\n",
            "Non-trainable params: 0\n",
            "_________________________________________________________________\n"
          ]
        }
      ],
      "source": [
        "model.summary()"
      ],
      "id": "0DydP521HwoS"
    },
    {
      "cell_type": "code",
      "execution_count": 129,
      "metadata": {
        "id": "oXvioPpsJRL_"
      },
      "outputs": [],
      "source": [
        "from tensorflow.keras.optimizers import RMSprop\n",
        "opt = RMSprop(learning_rate = 0.0001)\n",
        "model.compile(loss='categorical_crossentropy',\n",
        "              optimizer='Adam',\n",
        "              metrics=['accuracy']) "
      ],
      "id": "oXvioPpsJRL_"
    },
    {
      "cell_type": "markdown",
      "metadata": {
        "id": "36ad5144"
      },
      "source": [
        "Train the model!\n"
      ],
      "id": "36ad5144"
    },
    {
      "cell_type": "code",
      "execution_count": 130,
      "metadata": {
        "colab": {
          "base_uri": "https://localhost:8080/"
        },
        "id": "94f6a40a",
        "outputId": "bc09f22b-791e-4951-d498-b1a69dd421fb"
      },
      "outputs": [
        {
          "output_type": "stream",
          "name": "stdout",
          "text": [
            "Epoch 1/30\n",
            "2/2 [==============================] - 3s 667ms/step - loss: 0.9844 - accuracy: 0.5152 - val_loss: 1.0494 - val_accuracy: 0.5455\n",
            "Epoch 2/30\n",
            "2/2 [==============================] - 1s 131ms/step - loss: 0.9856 - accuracy: 0.5455 - val_loss: 0.8379 - val_accuracy: 0.6364\n",
            "Epoch 3/30\n",
            "2/2 [==============================] - 1s 176ms/step - loss: 0.7910 - accuracy: 0.7273 - val_loss: 0.8322 - val_accuracy: 0.6364\n",
            "Epoch 4/30\n",
            "2/2 [==============================] - 1s 630ms/step - loss: 1.1700 - accuracy: 0.5455 - val_loss: 0.6767 - val_accuracy: 0.6364\n",
            "Epoch 5/30\n",
            "2/2 [==============================] - 1s 928ms/step - loss: 0.5493 - accuracy: 0.7879 - val_loss: 1.0755 - val_accuracy: 0.6364\n",
            "Epoch 6/30\n",
            "2/2 [==============================] - 1s 815ms/step - loss: 0.8192 - accuracy: 0.7576 - val_loss: 1.3291 - val_accuracy: 0.5455\n",
            "Epoch 7/30\n",
            "2/2 [==============================] - 1s 166ms/step - loss: 0.8610 - accuracy: 0.7273 - val_loss: 0.5463 - val_accuracy: 0.8182\n",
            "Epoch 8/30\n",
            "2/2 [==============================] - 1s 559ms/step - loss: 0.3987 - accuracy: 0.8485 - val_loss: 0.7559 - val_accuracy: 0.6364\n",
            "Epoch 9/30\n",
            "2/2 [==============================] - 1s 550ms/step - loss: 0.5060 - accuracy: 0.7969 - val_loss: 0.4916 - val_accuracy: 0.8182\n",
            "Epoch 10/30\n",
            "2/2 [==============================] - 1s 576ms/step - loss: 0.2541 - accuracy: 0.8788 - val_loss: 0.7421 - val_accuracy: 0.7273\n",
            "Epoch 11/30\n",
            "2/2 [==============================] - 1s 796ms/step - loss: 0.3742 - accuracy: 0.8594 - val_loss: 0.5260 - val_accuracy: 0.7273\n",
            "Epoch 12/30\n",
            "2/2 [==============================] - 1s 608ms/step - loss: 0.3137 - accuracy: 0.8438 - val_loss: 0.3950 - val_accuracy: 0.8182\n",
            "Epoch 13/30\n",
            "2/2 [==============================] - 1s 982ms/step - loss: 0.2817 - accuracy: 0.8438 - val_loss: 0.4063 - val_accuracy: 0.8182\n",
            "Epoch 14/30\n",
            "2/2 [==============================] - 1s 738ms/step - loss: 0.2782 - accuracy: 0.8594 - val_loss: 0.3830 - val_accuracy: 0.7273\n",
            "Epoch 15/30\n",
            "2/2 [==============================] - 1s 370ms/step - loss: 0.3149 - accuracy: 0.8788 - val_loss: 0.8021 - val_accuracy: 0.6364\n",
            "Epoch 16/30\n",
            "2/2 [==============================] - 1s 770ms/step - loss: 0.2501 - accuracy: 0.8788 - val_loss: 0.5817 - val_accuracy: 0.8182\n",
            "Epoch 17/30\n",
            "2/2 [==============================] - 1s 182ms/step - loss: 0.5508 - accuracy: 0.7273 - val_loss: 1.2215 - val_accuracy: 0.6364\n",
            "Epoch 18/30\n",
            "2/2 [==============================] - 1s 192ms/step - loss: 0.8226 - accuracy: 0.7576 - val_loss: 0.4457 - val_accuracy: 0.8182\n",
            "Epoch 19/30\n",
            "2/2 [==============================] - 1s 185ms/step - loss: 0.3426 - accuracy: 0.8182 - val_loss: 0.4056 - val_accuracy: 0.9091\n",
            "Epoch 20/30\n",
            "2/2 [==============================] - 1s 626ms/step - loss: 0.3741 - accuracy: 0.8485 - val_loss: 0.6520 - val_accuracy: 0.7273\n",
            "Epoch 21/30\n",
            "2/2 [==============================] - 1s 525ms/step - loss: 0.4360 - accuracy: 0.8485 - val_loss: 0.6436 - val_accuracy: 0.7273\n",
            "Epoch 22/30\n",
            "2/2 [==============================] - 1s 527ms/step - loss: 0.3554 - accuracy: 0.8281 - val_loss: 0.3979 - val_accuracy: 0.8182\n",
            "Epoch 23/30\n",
            "2/2 [==============================] - 1s 437ms/step - loss: 0.2557 - accuracy: 0.8750 - val_loss: 0.3165 - val_accuracy: 0.8182\n",
            "Epoch 24/30\n",
            "2/2 [==============================] - 1s 539ms/step - loss: 0.2905 - accuracy: 0.9062 - val_loss: 0.3072 - val_accuracy: 0.9091\n",
            "Epoch 25/30\n",
            "2/2 [==============================] - 1s 443ms/step - loss: 0.2957 - accuracy: 0.9062 - val_loss: 0.2678 - val_accuracy: 0.8182\n",
            "Epoch 26/30\n",
            "2/2 [==============================] - 1s 629ms/step - loss: 0.2129 - accuracy: 0.8788 - val_loss: 0.2777 - val_accuracy: 0.8182\n",
            "Epoch 27/30\n",
            "2/2 [==============================] - 1s 216ms/step - loss: 0.2041 - accuracy: 0.9091 - val_loss: 0.3592 - val_accuracy: 0.8182\n",
            "Epoch 28/30\n",
            "2/2 [==============================] - 1s 744ms/step - loss: 0.2222 - accuracy: 0.8750 - val_loss: 0.4229 - val_accuracy: 0.8182\n",
            "Epoch 29/30\n",
            "2/2 [==============================] - 1s 523ms/step - loss: 0.2581 - accuracy: 0.8750 - val_loss: 0.3012 - val_accuracy: 0.8182\n",
            "Epoch 30/30\n",
            "2/2 [==============================] - 1s 130ms/step - loss: 0.2608 - accuracy: 0.8788 - val_loss: 0.2776 - val_accuracy: 0.9091\n"
          ]
        }
      ],
      "source": [
        "total_sample = train_generator.n\n",
        "n_epochs = 30\n",
        "\n",
        "# Train the model\n",
        "# Note that this may take some time.\n",
        "history = model.fit(train_generator,\n",
        "                    epochs=30,\n",
        "                    steps_per_epoch = int(total_sample/n_batch),\n",
        "                    verbose=1,\n",
        "                    validation_data=validation_generator\n",
        "                    )\n"
      ],
      "id": "94f6a40a"
    },
    {
      "cell_type": "code",
      "execution_count": 131,
      "metadata": {
        "id": "mflZmCmuyALb",
        "colab": {
          "base_uri": "https://localhost:8080/"
        },
        "outputId": "b045c944-e0c3-4ed3-9669-989723448924"
      },
      "outputs": [
        {
          "output_type": "stream",
          "name": "stdout",
          "text": [
            "Saved model to disk\n"
          ]
        },
        {
          "output_type": "stream",
          "name": "stderr",
          "text": [
            "WARNING:absl:Found untraced functions such as _jit_compiled_convolution_op, _jit_compiled_convolution_op, _jit_compiled_convolution_op while saving (showing 3 of 3). These functions will not be directly callable after loading.\n"
          ]
        }
      ],
      "source": [
        "# serialize model to JSON\n",
        "model_json = model.to_json()\n",
        "with open(\"model.json\", \"w\") as json_file:\n",
        "    json_file.write(model_json)\n",
        "# serialize weights to HDF5\n",
        "model.save_weights(\"model.h5\")\n",
        "print(\"Saved model to disk\")\n",
        "\n",
        "converter = tf.lite.TFLiteConverter.from_keras_model(model)\n",
        "tflite_model = converter.convert()\n",
        "    \n",
        "with open('model.tflite', 'wb') as f:\n",
        "    f.write(tflite_model)"
      ],
      "id": "mflZmCmuyALb"
    },
    {
      "cell_type": "markdown",
      "metadata": {
        "id": "e4dGQ_QWh1yw"
      },
      "source": [
        "Transfer learning model evaluation"
      ],
      "id": "e4dGQ_QWh1yw"
    },
    {
      "cell_type": "code",
      "execution_count": null,
      "metadata": {
        "id": "n3MmyJgDgmw7"
      },
      "outputs": [],
      "source": [
        "#valid_loss, valid_accuracy = model.evaluate(validation_generator)\n",
        "#print(\"Accuracy after transfer learning: {}\".format(valid_accuracy))"
      ],
      "id": "n3MmyJgDgmw7"
    },
    {
      "cell_type": "code",
      "execution_count": 132,
      "metadata": {
        "id": "6767c7f2",
        "colab": {
          "base_uri": "https://localhost:8080/",
          "height": 900
        },
        "outputId": "277edcb1-d341-4054-92ec-d3d7cf1660b5"
      },
      "outputs": [
        {
          "output_type": "display_data",
          "data": {
            "text/plain": [
              "<Figure size 640x480 with 1 Axes>"
            ],
            "image/png": "[encoded data removed]"
          },
          "metadata": {}
        },
        {
          "output_type": "stream",
          "name": "stderr",
          "text": [
            "WARNING:matplotlib.legend:No artists with labels found to put in legend.  Note that artists whose label start with an underscore are ignored when legend() is called with no argument.\n"
          ]
        },
        {
          "output_type": "stream",
          "name": "stdout",
          "text": [
            "\n"
          ]
        },
        {
          "output_type": "display_data",
          "data": {
            "text/plain": [
              "<Figure size 640x480 with 1 Axes>"
            ],
            "image/png": "[encoded data removed]"
          },
          "metadata": {}
        }
      ],
      "source": [
        "#-----------------------------------------------------------\n",
        "# Retrieve a list of list results on training and test data\n",
        "# sets for each training epoch\n",
        "#-----------------------------------------------------------\n",
        "acc=history.history['accuracy']\n",
        "val_acc=history.history['val_accuracy']\n",
        "loss=history.history['loss']\n",
        "val_loss=history.history['val_loss']\n",
        "\n",
        "epochs=range(len(acc)) # Get number of epochs\n",
        "\n",
        "#------------------------------------------------\n",
        "# Plot training and validation accuracy per epoch\n",
        "#------------------------------------------------\n",
        "plt.plot(epochs, acc, 'r', \"Training Accuracy\")\n",
        "plt.plot(epochs, val_acc, 'b', \"Validation Accuracy\")\n",
        "plt.title('Training and validation accuracy')\n",
        "plt.show()\n",
        "print(\"\")\n",
        "\n",
        "#------------------------------------------------\n",
        "# Plot training and validation loss per epoch\n",
        "#------------------------------------------------\n",
        "plt.plot(epochs, loss, 'r', \"Training Loss\")\n",
        "plt.plot(epochs, val_loss, 'b', \"Validation Loss\")\n",
        "plt.legend()\n",
        "plt.show()"
      ],
      "id": "6767c7f2"
    },
    {
      "cell_type": "code",
      "execution_count": 133,
      "metadata": {
        "id": "ouvlj3VXx6MX",
        "colab": {
          "base_uri": "https://localhost:8080/"
        },
        "outputId": "56127f48-26ea-4d87-aeab-02c26daecbc3"
      },
      "outputs": [
        {
          "output_type": "stream",
          "name": "stdout",
          "text": [
            "Loaded model from disk\n"
          ]
        }
      ],
      "source": [
        "from tensorflow.keras.models import Sequential, model_from_json\n",
        "\n",
        "# load json and create model\n",
        "json_file = open('model.json', 'r')\n",
        "loaded_model_json = json_file.read()\n",
        "json_file.close()\n",
        "loaded_model = model_from_json(loaded_model_json)\n",
        "# load weights into new model\n",
        "loaded_model.load_weights(\"model.h5\")\n",
        "print(\"Loaded model from disk\")"
      ],
      "id": "ouvlj3VXx6MX"
    },
    {
      "cell_type": "code",
      "source": [
        "import numpy as np\n",
        "from google.colab import files\n",
        "from tensorflow.keras.utils import load_img, img_to_array\n",
        "\n",
        "uploaded = files.upload()\n",
        "\n",
        "for fn in uploaded.keys():\n",
        " \n",
        "  # predicting images\n",
        "  path = fn\n",
        "  img = load_img(path, target_size=(150, 150))\n",
        "  x = img_to_array(img)\n",
        "  x = np.expand_dims(x, axis=0)\n",
        "\n",
        "  images = np.vstack([x])\n",
        "  prediction = model.predict(images, batch_size=10)\n",
        "\n",
        "  # Mendapatkan indeks maksimum dari hasil prediksi\n",
        "  predicted_label_index = np.argmax(prediction)\n",
        "  \n",
        "  # Daftar label yang sesuai dengan indeks prediksi\n",
        "  labels = ['Tanah_Aluvial', 'Tanah Laterit','Tanah Liat']\n",
        "\n",
        "  # Mendapatkan label prediksi\n",
        "  predicted_label = labels[predicted_label_index]\n",
        "\n",
        "  print(fn)\n",
        "  print(prediction)\n",
        "  print(f'Hasil prediksi tanah : {predicted_label}')"
      ],
      "metadata": {
        "colab": {
          "base_uri": "https://localhost:8080/",
          "height": 142
        },
        "id": "7WWsNCSuflly",
        "outputId": "64ec44be-6acd-4843-de9f-14b2e106cc7f"
      },
      "id": "7WWsNCSuflly",
      "execution_count": 141,
      "outputs": [
        {
          "output_type": "display_data",
          "data": {
            "text/plain": [
              "<IPython.core.display.HTML object>"
            ],
            "text/html": [
              "\n",
              "     <input type=\"file\" id=\"files-7497005f-5bab-41d0-a6cd-523d09ff6c71\" name=\"files[]\" multiple disabled\n",
              "        style=\"border:none\" />\n",
              "     <output id=\"result-7497005f-5bab-41d0-a6cd-523d09ff6c71\">\n",
              "      Upload widget is only available when the cell has been executed in the\n",
              "      current browser session. Please rerun this cell to enable.\n",
              "      </output>\n",
              "      <script>// Copyright 2017 Google LLC\n",
              "//\n",
              "// Licensed under the Apache License, Version 2.0 (the \"License\");\n",
              "// you may not use this file except in compliance with the License.\n",
              "// You may obtain a copy of the License at\n",
              "//\n",
              "//      http://www.apache.org/licenses/LICENSE-2.0\n",
              "//\n",
              "// Unless required by applicable law or agreed to in writing, software\n",
              "// distributed under the License is distributed on an \"AS IS\" BASIS,\n",
              "// WITHOUT WARRANTIES OR CONDITIONS OF ANY KIND, either express or implied.\n",
              "// See the License for the specific language governing permissions and\n",
              "// limitations under the License.\n",
              "\n",
              "/**\n",
              " * @fileoverview Helpers for google.colab Python module.\n",
              " */\n",
              "(function(scope) {\n",
              "function span(text, styleAttributes = {}) {\n",
              "  const element = document.createElement('span');\n",
              "  element.textContent = text;\n",
              "  for (const key of Object.keys(styleAttributes)) {\n",
              "    element.style[key] = styleAttributes[key];\n",
              "  }\n",
              "  return element;\n",
              "}\n",
              "\n",
              "// Max number of bytes which will be uploaded at a time.\n",
              "const MAX_PAYLOAD_SIZE = 100 * 1024;\n",
              "\n",
              "function _uploadFiles(inputId, outputId) {\n",
              "  const steps = uploadFilesStep(inputId, outputId);\n",
              "  const outputElement = document.getElementById(outputId);\n",
              "  // Cache steps on the outputElement to make it available for the next call\n",
              "  // to uploadFilesContinue from Python.\n",
              "  outputElement.steps = steps;\n",
              "\n",
              "  return _uploadFilesContinue(outputId);\n",
              "}\n",
              "\n",
              "// This is roughly an async generator (not supported in the browser yet),\n",
              "// where there are multiple asynchronous steps and the Python side is going\n",
              "// to poll for completion of each step.\n",
              "// This uses a Promise to block the python side on completion of each step,\n",
              "// then passes the result of the previous step as the input to the next step.\n",
              "function _uploadFilesContinue(outputId) {\n",
              "  const outputElement = document.getElementById(outputId);\n",
              "  const steps = outputElement.steps;\n",
              "\n",
              "  const next = steps.next(outputElement.lastPromiseValue);\n",
              "  return Promise.resolve(next.value.promise).then((value) => {\n",
              "    // Cache the last promise value to make it available to the next\n",
              "    // step of the generator.\n",
              "    outputElement.lastPromiseValue = value;\n",
              "    return next.value.response;\n",
              "  });\n",
              "}\n",
              "\n",
              "/**\n",
              " * Generator function which is called between each async step of the upload\n",
              " * process.\n",
              " * @param {string} inputId Element ID of the input file picker element.\n",
              " * @param {string} outputId Element ID of the output display.\n",
              " * @return {!Iterable<!Object>} Iterable of next steps.\n",
              " */\n",
              "function* uploadFilesStep(inputId, outputId) {\n",
              "  const inputElement = document.getElementById(inputId);\n",
              "  inputElement.disabled = false;\n",
              "\n",
              "  const outputElement = document.getElementById(outputId);\n",
              "  outputElement.innerHTML = '';\n",
              "\n",
              "  const pickedPromise = new Promise((resolve) => {\n",
              "    inputElement.addEventListener('change', (e) => {\n",
              "      resolve(e.target.files);\n",
              "    });\n",
              "  });\n",
              "\n",
              "  const cancel = document.createElement('button');\n",
              "  inputElement.parentElement.appendChild(cancel);\n",
              "  cancel.textContent = 'Cancel upload';\n",
              "  const cancelPromise = new Promise((resolve) => {\n",
              "    cancel.onclick = () => {\n",
              "      resolve(null);\n",
              "    };\n",
              "  });\n",
              "\n",
              "  // Wait for the user to pick the files.\n",
              "  const files = yield {\n",
              "    promise: Promise.race([pickedPromise, cancelPromise]),\n",
              "    response: {\n",
              "      action: 'starting',\n",
              "    }\n",
              "  };\n",
              "\n",
              "  cancel.remove();\n",
              "\n",
              "  // Disable the input element since further picks are not allowed.\n",
              "  inputElement.disabled = true;\n",
              "\n",
              "  if (!files) {\n",
              "    return {\n",
              "      response: {\n",
              "        action: 'complete',\n",
              "      }\n",
              "    };\n",
              "  }\n",
              "\n",
              "  for (const file of files) {\n",
              "    const li = document.createElement('li');\n",
              "    li.append(span(file.name, {fontWeight: 'bold'}));\n",
              "    li.append(span(\n",
              "        `(${file.type || 'n/a'}) - ${file.size} bytes, ` +\n",
              "        `last modified: ${\n",
              "            file.lastModifiedDate ? file.lastModifiedDate.toLocaleDateString() :\n",
              "                                    'n/a'} - `));\n",
              "    const percent = span('0% done');\n",
              "    li.appendChild(percent);\n",
              "\n",
              "    outputElement.appendChild(li);\n",
              "\n",
              "    const fileDataPromise = new Promise((resolve) => {\n",
              "      const reader = new FileReader();\n",
              "      reader.onload = (e) => {\n",
              "        resolve(e.target.result);\n",
              "      };\n",
              "      reader.readAsArrayBuffer(file);\n",
              "    });\n",
              "    // Wait for the data to be ready.\n",
              "    let fileData = yield {\n",
              "      promise: fileDataPromise,\n",
              "      response: {\n",
              "        action: 'continue',\n",
              "      }\n",
              "    };\n",
              "\n",
              "    // Use a chunked sending to avoid message size limits. See b/62115660.\n",
              "    let position = 0;\n",
              "    do {\n",
              "      const length = Math.min(fileData.byteLength - position, MAX_PAYLOAD_SIZE);\n",
              "      const chunk = new Uint8Array(fileData, position, length);\n",
              "      position += length;\n",
              "\n",
              "      const base64 = btoa(String.fromCharCode.apply(null, chunk));\n",
              "      yield {\n",
              "        response: {\n",
              "          action: 'append',\n",
              "          file: file.name,\n",
              "          data: base64,\n",
              "        },\n",
              "      };\n",
              "\n",
              "      let percentDone = fileData.byteLength === 0 ?\n",
              "          100 :\n",
              "          Math.round((position / fileData.byteLength) * 100);\n",
              "      percent.textContent = `${percentDone}% done`;\n",
              "\n",
              "    } while (position < fileData.byteLength);\n",
              "  }\n",
              "\n",
              "  // All done.\n",
              "  yield {\n",
              "    response: {\n",
              "      action: 'complete',\n",
              "    }\n",
              "  };\n",
              "}\n",
              "\n",
              "scope.google = scope.google || {};\n",
              "scope.google.colab = scope.google.colab || {};\n",
              "scope.google.colab._files = {\n",
              "  _uploadFiles,\n",
              "  _uploadFilesContinue,\n",
              "};\n",
              "})(self);\n",
              "</script> "
            ]
          },
          "metadata": {}
        },
        {
          "output_type": "stream",
          "name": "stdout",
          "text": [
            "Saving clay 26.png to clay 26 (1).png\n",
            "1/1 [==============================] - 0s 20ms/step\n",
            "clay 26.png\n",
            "[[0. 0. 1.]]\n",
            "Hasil prediksi tanah : Tanah Liat\n"
          ]
        }
      ]
    }
  ],
  "metadata": {
    "accelerator": "GPU",
    "colab": {
      "provenance": [],
      "include_colab_link": true
    },
    "kernelspec": {
      "display_name": "Python 3",
      "language": "python",
      "name": "python3"
    },
    "language_info": {
      "codemirror_mode": {
        "name": "ipython",
        "version": 3
      },
      "file_extension": ".py",
      "mimetype": "text/x-python",
      "name": "python",
      "nbconvert_exporter": "python",
      "pygments_lexer": "ipython3",
      "version": "3.7.4"
    }
  },
  "nbformat": 4,
  "nbformat_minor": 5
}