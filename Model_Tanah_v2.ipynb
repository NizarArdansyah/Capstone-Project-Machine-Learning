{
  "cells": [
    {
      "cell_type": "markdown",
      "metadata": {
        "id": "view-in-github",
        "colab_type": "text"
      },
      "source": [
        "<a href=\"https://colab.research.google.com/github/NizarArdansyah/Capstone-Project-Machine-Learning/blob/main/Model_Tanah_v2.ipynb\" target=\"_parent\"><img src=\"https://colab.research.google.com/assets/colab-badge.svg\" alt=\"Open In Colab\"/></a>"
      ]
    },
    {
      "cell_type": "code",
      "execution_count": null,
      "metadata": {
        "id": "fTaS80Hn4edu"
      },
      "outputs": [],
      "source": [
        "from google.colab import drive"
      ],
      "id": "fTaS80Hn4edu"
    },
    {
      "cell_type": "code",
      "execution_count": null,
      "metadata": {
        "colab": {
          "base_uri": "https://localhost:8080/"
        },
        "id": "4ddb1314",
        "outputId": "3d3d6c36-9155-4c8d-a613-fb3a84b74b36"
      },
      "outputs": [
        {
          "output_type": "stream",
          "name": "stdout",
          "text": [
            "Mounted at /content/drive/\n"
          ]
        }
      ],
      "source": [
        "import os\n",
        "import zipfile\n",
        "import random\n",
        "import shutil\n",
        "import tensorflow as tf\n",
        "from tensorflow.keras.preprocessing.image import ImageDataGenerator\n",
        "from shutil import copyfile\n",
        "import matplotlib.pyplot as plt\n",
        "\n",
        "drive.mount('/content/drive/')"
      ],
      "id": "4ddb1314"
    },
    {
      "cell_type": "code",
      "execution_count": null,
      "metadata": {
        "colab": {
          "base_uri": "https://localhost:8080/"
        },
        "id": "K8-FzGzk5UKm",
        "outputId": "0d3fede8-624b-4677-9ba9-623c30e9d706"
      },
      "outputs": [
        {
          "output_type": "stream",
          "name": "stdout",
          "text": [
            "Soil_Types  Training  Validation\n"
          ]
        }
      ],
      "source": [
        "base_dir = '/content/drive/My Drive/Capstone/'\n",
        "!ls \"/content/drive/My Drive/Capstone/\""
      ],
      "id": "K8-FzGzk5UKm"
    },
    {
      "cell_type": "code",
      "source": [
        "# !pip install split-folders"
      ],
      "metadata": {
        "id": "UtqDpFINxZ2k",
        "outputId": "1b8a8baa-2bbb-40f5-e35f-6140a2aeb12c",
        "colab": {
          "base_uri": "https://localhost:8080/"
        }
      },
      "id": "UtqDpFINxZ2k",
      "execution_count": null,
      "outputs": [
        {
          "output_type": "stream",
          "name": "stdout",
          "text": [
            "Looking in indexes: https://pypi.org/simple, https://us-python.pkg.dev/colab-wheels/public/simple/\n",
            "Collecting split-folders\n",
            "  Downloading split_folders-0.5.1-py3-none-any.whl (8.4 kB)\n",
            "Installing collected packages: split-folders\n",
            "Successfully installed split-folders-0.5.1\n"
          ]
        }
      ]
    },
    {
      "cell_type": "code",
      "execution_count": null,
      "metadata": {
        "id": "L0rF8KED566_",
        "outputId": "9ec02b64-4a91-4267-cbc7-45e2ad3fa3d1",
        "colab": {
          "base_uri": "https://localhost:8080/"
        }
      },
      "outputs": [
        {
          "output_type": "stream",
          "name": "stderr",
          "text": [
            "Copying files: 154 files [00:01, 101.92 files/s]\n"
          ]
        }
      ],
      "source": [
        "soil_dir = os.path.join(base_dir, 'Soil_Types')\n",
        "split_dir = os.path.join(base_dir, 'Soil_Types_Splited')\n",
        "import splitfolders \n",
        "\n",
        "splitfolders.ratio(soil_dir, output=split_dir, seed=42, ratio=(0.9,0.1), group_prefix=None)\n",
        "training_dir = os.path.join(split_dir, 'train')\n",
        "validation_dir = os.path.join(split_dir, 'val')"
      ],
      "id": "L0rF8KED566_"
    },
    {
      "cell_type": "code",
      "execution_count": null,
      "metadata": {
        "colab": {
          "base_uri": "https://localhost:8080/"
        },
        "id": "c7hvG4U66aZF",
        "outputId": "531404ac-23ab-45ad-9fa0-87e036768469"
      },
      "outputs": [
        {
          "output_type": "stream",
          "name": "stdout",
          "text": [
            "Jumlah Data Train Tiap Kelas\n",
            "Jumlah gambar tanah geluh : 17\n",
            "Jumlah gambar tanah liat : 29\n",
            "Jumlah gambar tanah aluvial : 11\n",
            "Jumlah gambar tanah gambut : 30\n",
            "Jumlah gambar tanah laterit : 30\n",
            "Jumlah gambar tanah vulkanik : 37\n"
          ]
        }
      ],
      "source": [
        "# kuning_dir = os.path.join(soil_dir, 'Tanah_Kuning/')\n",
        "geluh_dir = os.path.join(soil_dir, 'Tanah_Geluh/')\n",
        "liat_dir = os.path.join(soil_dir, 'Tanah_Liat/')\n",
        "aluvial_dir = os.path.join(soil_dir, 'Tanah_Aluvial/')\n",
        "gambut_dir = os.path.join(soil_dir, 'Tanah_Gambut/')\n",
        "laterit_dir = os.path.join(soil_dir, 'Tanah_Laterit/')\n",
        "vulkanik_dir = os.path.join(soil_dir, 'Tanah_Vulkanik/')\n",
        "\n",
        "print(\"Jumlah Data Train Tiap Kelas\")\n",
        "# print(\"Jumlah gambar tanah kuning :\", len(os.listdir(kuning_dir)))\n",
        "print(\"Jumlah gambar tanah geluh :\", len(os.listdir(geluh_dir)))\n",
        "print(\"Jumlah gambar tanah liat :\", len(os.listdir(liat_dir)))\n",
        "print(\"Jumlah gambar tanah aluvial :\", len(os.listdir(aluvial_dir)))\n",
        "print(\"Jumlah gambar tanah gambut :\", len(os.listdir(gambut_dir)))\n",
        "print(\"Jumlah gambar tanah laterit :\", len(os.listdir(laterit_dir)))\n",
        "print(\"Jumlah gambar tanah vulkanik :\", len(os.listdir(vulkanik_dir)))"
      ],
      "id": "c7hvG4U66aZF"
    },
    {
      "cell_type": "code",
      "execution_count": null,
      "metadata": {
        "id": "NXaA-0yN76cM"
      },
      "outputs": [],
      "source": [
        "#direktori training\n",
        "# train_kuning = os.path.join(training_dir, 'Tanah_Kuning/')\n",
        "train_geluh = os.path.join(training_dir, 'Tanah_Geluh/')\n",
        "train_liat = os.path.join(training_dir, 'Tanah_Liat/')\n",
        "train_aluvial = os.path.join(training_dir, 'Tanah_Aluvial/')\n",
        "train_gambut = os.path.join(training_dir, 'Tanah_Gambut/')\n",
        "train_laterit = os.path.join(training_dir, 'Tanah_Laterit/')\n",
        "train_andosol = os.path.join(training_dir, 'Tanah_Andosol/')\n",
        "train_vulkanik = os.path.join(training_dir, 'Tanah_Vulkanik/')\n",
        "\n",
        "#direktori validation\n",
        "# validation_kuning = os.path.join(validation_dir, 'Tanah_Kuning/')\n",
        "validation_geluh = os.path.join(validation_dir, 'Tanah_Geluh/')\n",
        "validation_liat = os.path.join(validation_dir, 'Tanah_Liat/')\n",
        "validation_aluvial = os.path.join(validation_dir, 'Tanah_Aluvial/')\n",
        "validation_gambut = os.path.join(validation_dir, 'Tanah_Gambut/')\n",
        "validation_laterit = os.path.join(validation_dir, 'Tanah_Laterit/')\n",
        "validation_andosol = os.path.join(validation_dir, 'Tanah_Andosol/')\n",
        "validation_vulkanik = os.path.join(validation_dir, 'Tanah_Vulkanik/')"
      ],
      "id": "NXaA-0yN76cM"
    },
    {
      "cell_type": "code",
      "execution_count": null,
      "metadata": {
        "cellView": "code",
        "id": "7c5d7d0e"
      },
      "outputs": [],
      "source": [
        "def split_data(soil_dir, training_dir, validation_dir, SPLIT_SIZE):\n",
        "  files = []\n",
        "  for filename in os.listdir(soil_dir):\n",
        "    file = soil_dir + filename\n",
        "    if os.path.getsize(file) > 0:\n",
        "      files.append(filename)\n",
        "    else:\n",
        "      print(filename + ' is zero length, so ignoring.')\n",
        "\n",
        "    training_length = int(len(files) * SPLIT_SIZE)\n",
        "    testing_length = int(len(files) - training_length)\n",
        "    shuffled_set = random.sample(files, len(files))\n",
        "    training_set = shuffled_set[0:training_length]\n",
        "    testing_set = shuffled_set[-testing_length:]\n",
        "  \n",
        "  for filename in training_set:\n",
        "    src_file = soil_dir + filename\n",
        "    dest_file = training_dir + filename\n",
        "    copyfile(src_file, dest_file)\n",
        "    \n",
        "  for filename in testing_set:\n",
        "    src_file = soil_dir + filename\n",
        "    dest_file = validation_dir + filename\n",
        "    copyfile(src_file, dest_file)\n",
        "  pass\n"
      ],
      "id": "7c5d7d0e"
    },
    {
      "cell_type": "code",
      "execution_count": null,
      "metadata": {
        "colab": {
          "base_uri": "https://localhost:8080/"
        },
        "id": "Hz8RGQtE9PBH",
        "outputId": "fbc594ef-7dda-43af-c239-0fef2d05bd72"
      },
      "outputs": [
        {
          "output_type": "stream",
          "name": "stdout",
          "text": [
            "\n",
            "\n",
            "Original kuning soil's directory has 39 images\n",
            "\n",
            "\n",
            "Original gambut soil's directory has 30 images\n",
            "\n",
            "\n",
            "Original laterit soil's directory has 30 images\n",
            "\n",
            "\n",
            "Original vulkanik soil's directory has 37 images\n",
            "There are 35 images of kuning soil for training\n",
            "There are 27 images of gambut soil for training\n",
            "There are 27 images of laterit soil for training\n",
            "There are 33 images of vulkanik soil for training\n",
            "There are 4 images of kuning soil for validation\n",
            "There are 3 images of gambut soil for validation\n",
            "There are 3 images of laterit soil for validation\n",
            "There are 4 images of vulkanik soil for validation\n"
          ]
        }
      ],
      "source": [
        "if len(os.listdir(train_kuning)) > 0:\n",
        "  for file in os.scandir(train_kuning):\n",
        "    os.remove(file.path)\n",
        "if len(os.listdir(train_geluh)) > 0:\n",
        "  for file in os.scandir(train_geluh):\n",
        "    os.remove(file.path)\n",
        "if len(os.listdir(train_liat)) > 0:\n",
        "  for file in os.scandir(train_liat):\n",
        "    os.remove(file.path)\n",
        "if len(os.listdir(train_aluvial)) > 0:\n",
        "  for file in os.scandir(train_aluvial):\n",
        "    os.remove(file.path)\n",
        "if len(os.listdir(train_gambut)) > 0:\n",
        "  for file in os.scandir(train_gambut):\n",
        "    os.remove(file.path)\n",
        "if len(os.listdir(train_laterit)) > 0:\n",
        "  for file in os.scandir(train_laterit):\n",
        "    os.remove(file.path)\n",
        "if len(os.listdir(train_vulkanik)) > 0:\n",
        "  for file in os.scandir(train_vulkanik):\n",
        "    os.remove(file.path)\n",
        "\n",
        "if len(os.listdir(validation_kuning)) > 0:\n",
        "  for file in os.scandir(validation_kuning):\n",
        "    os.remove(file.path)\n",
        "if len(os.listdir(validation_geluh)) > 0:\n",
        "  for file in os.scandir(validation_geluh):\n",
        "    os.remove(file.path)\n",
        "if len(os.listdir(validation_liat)) > 0:\n",
        "  for file in os.scandir(validation_liat):\n",
        "    os.remove(file.path)\n",
        "if len(os.listdir(validation_aluvial)) > 0:\n",
        "  for file in os.scandir(validation_aluvial):\n",
        "    os.remove(file.path)\n",
        "if len(os.listdir(validation_gambut)) > 0:\n",
        "  for file in os.scandir(validation_gambut):\n",
        "    os.remove(file.path)\n",
        "if len(os.listdir(validation_laterit)) > 0:\n",
        "  for file in os.scandir(validation_laterit):\n",
        "    os.remove(file.path)\n",
        "if len(os.listdir(validation_vulkanik)) > 0:\n",
        "  for file in os.scandir(validation_vulkanik):\n",
        "    os.remove(file.path)\n",
        "\n",
        "# Define proportion of images used for training\n",
        "split_size = .9\n",
        "\n",
        "# Run the function\n",
        "# NOTE: Messages about zero length images should be printed out\n",
        "split_data(kuning_dir, train_kuning, validation_kuning, split_size)\n",
        "split_data(gambut_dir, train_gambut, validation_gambut, split_size)\n",
        "split_data(laterit_dir, train_laterit, validation_laterit, split_size)\n",
        "split_data(vulkanik_dir, train_vulkanik, validation_vulkanik, split_size)\n",
        "\n",
        "\n",
        "# Your function should perform copies rather than moving images so original directories should contain unchanged images\n",
        "print(f\"\\n\\nOriginal kuning soil's directory has {len(os.listdir(kuning_dir))} images\")\n",
        "print(f\"\\n\\nOriginal gambut soil's directory has {len(os.listdir(gambut_dir))} images\")\n",
        "print(f\"\\n\\nOriginal laterit soil's directory has {len(os.listdir(laterit_dir))} images\")\n",
        "print(f\"\\n\\nOriginal vulkanik soil's directory has {len(os.listdir(vulkanik_dir))} images\")\n",
        "\n",
        "# Training and validation splits. Check that the number of images matches the expected output.\n",
        "print(f\"There are {len(os.listdir(train_kuning))} images of kuning soil for training\")\n",
        "print(f\"There are {len(os.listdir(train_gambut))} images of gambut soil for training\")\n",
        "print(f\"There are {len(os.listdir(train_laterit))} images of laterit soil for training\")\n",
        "print(f\"There are {len(os.listdir(train_vulkanik))} images of vulkanik soil for training\")\n",
        "\n",
        "print(f\"There are {len(os.listdir(validation_kuning))} images of kuning soil for validation\")\n",
        "print(f\"There are {len(os.listdir(validation_gambut))} images of gambut soil for validation\")\n",
        "print(f\"There are {len(os.listdir(validation_laterit))} images of laterit soil for validation\")\n",
        "print(f\"There are {len(os.listdir(validation_vulkanik))} images of vulkanik soil for validation\")"
      ],
      "id": "Hz8RGQtE9PBH"
    },
    {
      "cell_type": "code",
      "source": [
        "n_batch = 32"
      ],
      "metadata": {
        "id": "urlFZAGw-hwv"
      },
      "id": "urlFZAGw-hwv",
      "execution_count": null,
      "outputs": []
    },
    {
      "cell_type": "code",
      "execution_count": null,
      "metadata": {
        "cellView": "code",
        "id": "35525d12"
      },
      "outputs": [],
      "source": [
        "def train_val_generators(training_dir, validation_dir):\n",
        "\n",
        "  train_datagen = ImageDataGenerator(rescale=1.0/255.,\n",
        "                                     rotation_range=45,\n",
        "                                     width_shift_range=0.2,\n",
        "                                     height_shift_range=0.2,\n",
        "                                     shear_range=0.15,\n",
        "                                     zoom_range=0.40,\n",
        "                                     horizontal_flip=True,\n",
        "                                     vertical_flip=True,\n",
        "                                     fill_mode='nearest')\n",
        "\n",
        "  train_generator = train_datagen.flow_from_directory(directory=training_dir,\n",
        "                                                      batch_size=n_batch,\n",
        "                                                      class_mode='categorical',\n",
        "                                                      target_size=(150, 150))\n",
        "\n",
        "  validation_datagen = ImageDataGenerator(rescale=1.0/255.)\n",
        "\n",
        "  validation_generator = validation_datagen.flow_from_directory(directory=validation_dir,\n",
        "                                                                batch_size=n_batch,\n",
        "                                                                class_mode='categorical',\n",
        "                                                                target_size=(150, 150))\n",
        " \n",
        "  return train_generator, validation_generator"
      ],
      "id": "35525d12"
    },
    {
      "cell_type": "code",
      "execution_count": null,
      "metadata": {
        "colab": {
          "base_uri": "https://localhost:8080/"
        },
        "id": "d2198ef1",
        "outputId": "f1f3737c-cccf-42e4-c117-dc8c89eee8ed"
      },
      "outputs": [
        {
          "output_type": "stream",
          "name": "stdout",
          "text": [
            "Found 145 images belonging to 6 classes.\n",
            "Found 25 images belonging to 6 classes.\n"
          ]
        }
      ],
      "source": [
        "train_generator, validation_generator = train_val_generators(training_dir, validation_dir)"
      ],
      "id": "d2198ef1"
    },
    {
      "cell_type": "code",
      "source": [
        "for image_batch, label_batch in train_generator:\n",
        "  break\n",
        "  image_batch.shape, label_batch.shape"
      ],
      "metadata": {
        "id": "G5qA5gOU4Oco"
      },
      "id": "G5qA5gOU4Oco",
      "execution_count": null,
      "outputs": []
    },
    {
      "cell_type": "code",
      "source": [
        "print (train_generator.class_indices)"
      ],
      "metadata": {
        "id": "QQsDzbjD4PQZ",
        "outputId": "052d239e-93ee-43ca-9b92-718b893fdd51",
        "colab": {
          "base_uri": "https://localhost:8080/"
        }
      },
      "id": "QQsDzbjD4PQZ",
      "execution_count": null,
      "outputs": [
        {
          "output_type": "stream",
          "name": "stdout",
          "text": [
            "{'Tanah_Aluvial': 0, 'Tanah_Gambut': 1, 'Tanah_Geluh': 2, 'Tanah_Laterit': 3, 'Tanah_Liat': 4, 'Tanah_Vulkanik': 5}\n"
          ]
        }
      ]
    },
    {
      "cell_type": "code",
      "execution_count": null,
      "metadata": {
        "id": "XcQcpGNvCK4i"
      },
      "outputs": [],
      "source": [
        "from tensorflow.keras.optimizers import Adam\n",
        "from tensorflow.keras.models import Model\n"
      ],
      "id": "XcQcpGNvCK4i"
    },
    {
      "cell_type": "code",
      "source": [
        "class myCallback(tf.keras.callbacks.Callback):\n",
        "  def on_epoch_end(self,epoch, logs = {}):\n",
        "    if(logs.get('accuracy') > 0.91):\n",
        "      print('Akurasi mencapai >90%')\n",
        "      self.model.stop_training = True\n",
        "\n",
        "callbacks = myCallback()      "
      ],
      "metadata": {
        "id": "W-OJTQVlkvpz"
      },
      "id": "W-OJTQVlkvpz",
      "execution_count": null,
      "outputs": []
    },
    {
      "cell_type": "code",
      "execution_count": null,
      "metadata": {
        "cellView": "code",
        "id": "d88b8b62"
      },
      "outputs": [],
      "source": [
        "model = tf.keras.models.Sequential([ \n",
        "    tf.keras.layers.Conv2D(16, (3,3), activation='relu', padding='same', input_shape=(150, 150, 3)),\n",
        "    tf.keras.layers.MaxPooling2D(2, 2),\n",
        "    tf.keras.layers.Conv2D(32, (3,3), activation='relu', padding='same'),\n",
        "    tf.keras.layers.MaxPooling2D(2,2),\n",
        "    tf.keras.layers.Conv2D(64, (3,3), activation='relu', padding='same'),\n",
        "    tf.keras.layers.MaxPooling2D(2,2),\n",
        "    tf.keras.layers.Conv2D(128, (3,3), activation='relu', padding='same'),\n",
        "    tf.keras.layers.MaxPooling2D(2,2),\n",
        "    \n",
        "    tf.keras.layers.Flatten(),\n",
        "    tf.keras.layers.Dense(512, activation='relu'),\n",
        "    tf.keras.layers.Dropout(0.5),\n",
        "    tf.keras.layers.Dense(6, activation='softmax')\n",
        "  ])\n"
      ],
      "id": "d88b8b62"
    },
    {
      "cell_type": "code",
      "execution_count": null,
      "metadata": {
        "colab": {
          "base_uri": "https://localhost:8080/"
        },
        "id": "0DydP521HwoS",
        "outputId": "c76ab406-38bc-460b-d519-98dca679314c"
      },
      "outputs": [
        {
          "output_type": "stream",
          "name": "stdout",
          "text": [
            "Model: \"sequential_12\"\n",
            "_________________________________________________________________\n",
            " Layer (type)                Output Shape              Param #   \n",
            "=================================================================\n",
            " conv2d_54 (Conv2D)          (None, 150, 150, 16)      448       \n",
            "                                                                 \n",
            " max_pooling2d_54 (MaxPoolin  (None, 75, 75, 16)       0         \n",
            " g2D)                                                            \n",
            "                                                                 \n",
            " conv2d_55 (Conv2D)          (None, 75, 75, 32)        4640      \n",
            "                                                                 \n",
            " max_pooling2d_55 (MaxPoolin  (None, 37, 37, 32)       0         \n",
            " g2D)                                                            \n",
            "                                                                 \n",
            " conv2d_56 (Conv2D)          (None, 37, 37, 64)        18496     \n",
            "                                                                 \n",
            " max_pooling2d_56 (MaxPoolin  (None, 18, 18, 64)       0         \n",
            " g2D)                                                            \n",
            "                                                                 \n",
            " conv2d_57 (Conv2D)          (None, 18, 18, 64)        36928     \n",
            "                                                                 \n",
            " max_pooling2d_57 (MaxPoolin  (None, 9, 9, 64)         0         \n",
            " g2D)                                                            \n",
            "                                                                 \n",
            " conv2d_58 (Conv2D)          (None, 9, 9, 64)          36928     \n",
            "                                                                 \n",
            " max_pooling2d_58 (MaxPoolin  (None, 4, 4, 64)         0         \n",
            " g2D)                                                            \n",
            "                                                                 \n",
            " flatten_13 (Flatten)        (None, 1024)              0         \n",
            "                                                                 \n",
            " dense_25 (Dense)            (None, 128)               131200    \n",
            "                                                                 \n",
            " dropout_5 (Dropout)         (None, 128)               0         \n",
            "                                                                 \n",
            " dense_26 (Dense)            (None, 6)                 774       \n",
            "                                                                 \n",
            "=================================================================\n",
            "Total params: 229,414\n",
            "Trainable params: 229,414\n",
            "Non-trainable params: 0\n",
            "_________________________________________________________________\n"
          ]
        }
      ],
      "source": [
        "model.summary()"
      ],
      "id": "0DydP521HwoS"
    },
    {
      "cell_type": "code",
      "execution_count": null,
      "metadata": {
        "id": "oXvioPpsJRL_"
      },
      "outputs": [],
      "source": [
        "from tensorflow.keras.optimizers import RMSprop\n",
        "opt = RMSprop(learning_rate = 0.0001)\n",
        "model.compile(loss='categorical_crossentropy',\n",
        "              optimizer='Adam',\n",
        "              metrics=['accuracy']) "
      ],
      "id": "oXvioPpsJRL_"
    },
    {
      "cell_type": "markdown",
      "metadata": {
        "id": "36ad5144"
      },
      "source": [
        "Train the model!\n"
      ],
      "id": "36ad5144"
    },
    {
      "cell_type": "code",
      "execution_count": null,
      "metadata": {
        "colab": {
          "base_uri": "https://localhost:8080/"
        },
        "id": "94f6a40a",
        "outputId": "2e754c17-fb73-446a-aa05-8d37ef83278a"
      },
      "outputs": [
        {
          "output_type": "stream",
          "name": "stdout",
          "text": [
            "Epoch 1/30\n",
            "4/4 [==============================] - 3s 729ms/step - loss: 0.6599 - accuracy: 0.7168 - val_loss: 0.4372 - val_accuracy: 0.8400\n",
            "Epoch 2/30\n",
            "4/4 [==============================] - 3s 842ms/step - loss: 0.5375 - accuracy: 0.7876 - val_loss: 0.5375 - val_accuracy: 0.7200\n",
            "Epoch 3/30\n",
            "4/4 [==============================] - 2s 430ms/step - loss: 0.6265 - accuracy: 0.7500 - val_loss: 0.4157 - val_accuracy: 0.7600\n",
            "Epoch 4/30\n",
            "4/4 [==============================] - 2s 520ms/step - loss: 0.5347 - accuracy: 0.7891 - val_loss: 0.3445 - val_accuracy: 0.9200\n",
            "Epoch 5/30\n",
            "4/4 [==============================] - 2s 558ms/step - loss: 0.4978 - accuracy: 0.8438 - val_loss: 0.3425 - val_accuracy: 0.9200\n",
            "Epoch 6/30\n",
            "4/4 [==============================] - 2s 448ms/step - loss: 0.4321 - accuracy: 0.8319 - val_loss: 0.3481 - val_accuracy: 0.8400\n",
            "Epoch 7/30\n",
            "4/4 [==============================] - 2s 598ms/step - loss: 0.5663 - accuracy: 0.7522 - val_loss: 0.2699 - val_accuracy: 0.9200\n",
            "Epoch 8/30\n",
            "4/4 [==============================] - 2s 642ms/step - loss: 0.3959 - accuracy: 0.8407 - val_loss: 0.3038 - val_accuracy: 0.8800\n",
            "Epoch 9/30\n",
            "4/4 [==============================] - 2s 432ms/step - loss: 0.4415 - accuracy: 0.8230 - val_loss: 0.2477 - val_accuracy: 0.9200\n",
            "Epoch 10/30\n",
            "4/4 [==============================] - 2s 493ms/step - loss: 0.4636 - accuracy: 0.8053 - val_loss: 0.2014 - val_accuracy: 0.9600\n",
            "Epoch 11/30\n",
            "4/4 [==============================] - 2s 405ms/step - loss: 0.3651 - accuracy: 0.8750 - val_loss: 0.3657 - val_accuracy: 0.8400\n",
            "Epoch 12/30\n",
            "4/4 [==============================] - 2s 380ms/step - loss: 0.5164 - accuracy: 0.8142 - val_loss: 0.3476 - val_accuracy: 0.9200\n",
            "Epoch 13/30\n",
            "4/4 [==============================] - 2s 608ms/step - loss: 0.4790 - accuracy: 0.8053 - val_loss: 0.2666 - val_accuracy: 0.8800\n",
            "Epoch 14/30\n",
            "4/4 [==============================] - 3s 676ms/step - loss: 0.6430 - accuracy: 0.7788 - val_loss: 0.3374 - val_accuracy: 0.8400\n",
            "Epoch 15/30\n",
            "4/4 [==============================] - 2s 369ms/step - loss: 0.5392 - accuracy: 0.8407 - val_loss: 0.3400 - val_accuracy: 0.8800\n",
            "Epoch 16/30\n",
            "4/4 [==============================] - 2s 480ms/step - loss: 0.4309 - accuracy: 0.8142 - val_loss: 0.3266 - val_accuracy: 0.8400\n",
            "Epoch 17/30\n",
            "4/4 [==============================] - 2s 391ms/step - loss: 0.4987 - accuracy: 0.7876 - val_loss: 0.3407 - val_accuracy: 0.8800\n",
            "Epoch 18/30\n",
            "4/4 [==============================] - 2s 569ms/step - loss: 0.4355 - accuracy: 0.8496 - val_loss: 0.3002 - val_accuracy: 0.8400\n",
            "Epoch 19/30\n",
            "4/4 [==============================] - 3s 742ms/step - loss: 0.4736 - accuracy: 0.8319 - val_loss: 0.2690 - val_accuracy: 0.8800\n",
            "Epoch 20/30\n",
            "4/4 [==============================] - 2s 385ms/step - loss: 0.6268 - accuracy: 0.7522 - val_loss: 0.2289 - val_accuracy: 0.9600\n",
            "Epoch 21/30\n",
            "4/4 [==============================] - 2s 470ms/step - loss: 0.4873 - accuracy: 0.7699 - val_loss: 0.3238 - val_accuracy: 0.8800\n",
            "Epoch 22/30\n",
            "4/4 [==============================] - 2s 549ms/step - loss: 0.4766 - accuracy: 0.8407 - val_loss: 0.4604 - val_accuracy: 0.8400\n",
            "Epoch 23/30\n",
            "4/4 [==============================] - 2s 525ms/step - loss: 0.4581 - accuracy: 0.8053 - val_loss: 0.3153 - val_accuracy: 0.8400\n",
            "Epoch 24/30\n",
            "4/4 [==============================] - 3s 645ms/step - loss: 0.6161 - accuracy: 0.7699 - val_loss: 0.3571 - val_accuracy: 0.8000\n",
            "Epoch 25/30\n",
            "4/4 [==============================] - 1s 363ms/step - loss: 0.6199 - accuracy: 0.7876 - val_loss: 0.4364 - val_accuracy: 0.8000\n",
            "Epoch 26/30\n",
            "4/4 [==============================] - 2s 414ms/step - loss: 0.4546 - accuracy: 0.8319 - val_loss: 0.6101 - val_accuracy: 0.7600\n",
            "Epoch 27/30\n",
            "4/4 [==============================] - 2s 399ms/step - loss: 0.5998 - accuracy: 0.7876 - val_loss: 0.3467 - val_accuracy: 0.8400\n",
            "Epoch 28/30\n",
            "4/4 [==============================] - 2s 497ms/step - loss: 0.5262 - accuracy: 0.7876 - val_loss: 0.4333 - val_accuracy: 0.8400\n",
            "Epoch 29/30\n",
            "4/4 [==============================] - 2s 435ms/step - loss: 0.4070 - accuracy: 0.8673 - val_loss: 0.4391 - val_accuracy: 0.8400\n",
            "Epoch 30/30\n",
            "4/4 [==============================] - 2s 536ms/step - loss: 0.4354 - accuracy: 0.8407 - val_loss: 0.3403 - val_accuracy: 0.8800\n"
          ]
        }
      ],
      "source": [
        "total_sample = train_generator.n\n",
        "n_epochs = 30\n",
        "\n",
        "# Train the model\n",
        "# Note that this may take some time.\n",
        "history = model.fit(train_generator,\n",
        "                    epochs=30,\n",
        "                    steps_per_epoch = int(total_sample/n_batch),\n",
        "                    verbose=1,\n",
        "                    validation_data=validation_generator\n",
        "                    )\n"
      ],
      "id": "94f6a40a"
    },
    {
      "cell_type": "code",
      "execution_count": null,
      "metadata": {
        "id": "mflZmCmuyALb",
        "colab": {
          "base_uri": "https://localhost:8080/"
        },
        "outputId": "87181abf-e9ef-4ec4-e4f8-84c44ad98a99"
      },
      "outputs": [
        {
          "metadata": {
            "tags": null
          },
          "name": "stdout",
          "output_type": "stream",
          "text": [
            "Saved model to disk\n"
          ]
        },
        {
          "metadata": {
            "tags": null
          },
          "name": "stderr",
          "output_type": "stream",
          "text": [
            "WARNING:absl:Found untraced functions such as _jit_compiled_convolution_op, _jit_compiled_convolution_op, _jit_compiled_convolution_op, _jit_compiled_convolution_op while saving (showing 4 of 4). These functions will not be directly callable after loading.\n"
          ]
        }
      ],
      "source": [
        "# serialize model to JSON\n",
        "model_json = model.to_json()\n",
        "with open(\"model.json\", \"w\") as json_file:\n",
        "    json_file.write(model_json)\n",
        "# serialize weights to HDF5\n",
        "model.save_weights(\"model.h5\")\n",
        "print(\"Saved model to disk\")\n",
        "\n",
        "converter = tf.lite.TFLiteConverter.from_keras_model(model)\n",
        "tflite_model = converter.convert()\n",
        "    \n",
        "with open('model.tflite', 'wb') as f:\n",
        "    f.write(tflite_model)"
      ],
      "id": "mflZmCmuyALb"
    },
    {
      "cell_type": "markdown",
      "metadata": {
        "id": "e4dGQ_QWh1yw"
      },
      "source": [
        "Transfer learning model evaluation"
      ],
      "id": "e4dGQ_QWh1yw"
    },
    {
      "cell_type": "code",
      "execution_count": null,
      "metadata": {
        "id": "n3MmyJgDgmw7"
      },
      "outputs": [],
      "source": [
        "#valid_loss, valid_accuracy = model.evaluate(validation_generator)\n",
        "#print(\"Accuracy after transfer learning: {}\".format(valid_accuracy))"
      ],
      "id": "n3MmyJgDgmw7"
    },
    {
      "cell_type": "code",
      "execution_count": null,
      "metadata": {
        "id": "6767c7f2",
        "colab": {
          "base_uri": "https://localhost:8080/",
          "height": 920
        },
        "outputId": "01969770-008c-434a-8e51-e5c7098526fe"
      },
      "outputs": [
        {
          "data": {
            "image/png": "[encoded data removed]",
            "text/plain": [
              "<Figure size 640x480 with 1 Axes>"
            ]
          },
          "metadata": {},
          "output_type": "display_data"
        },
        {
          "metadata": {
            "tags": null
          },
          "name": "stderr",
          "output_type": "stream",
          "text": [
            "WARNING:matplotlib.legend:No artists with labels found to put in legend.  Note that artists whose label start with an underscore are ignored when legend() is called with no argument.\n"
          ]
        },
        {
          "metadata": {
            "tags": null
          },
          "name": "stdout",
          "output_type": "stream",
          "text": [
            "\n"
          ]
        },
        {
          "data": {
            "image/png": "[encoded data removed]",
            "text/plain": [
              "<Figure size 640x480 with 1 Axes>"
            ]
          },
          "metadata": {},
          "output_type": "display_data"
        }
      ],
      "source": [
        "#-----------------------------------------------------------\n",
        "# Retrieve a list of list results on training and test data\n",
        "# sets for each training epoch\n",
        "#-----------------------------------------------------------\n",
        "acc=history.history['accuracy']\n",
        "val_acc=history.history['val_accuracy']\n",
        "loss=history.history['loss']\n",
        "val_loss=history.history['val_loss']\n",
        "\n",
        "epochs=range(len(acc)) # Get number of epochs\n",
        "\n",
        "#------------------------------------------------\n",
        "# Plot training and validation accuracy per epoch\n",
        "#------------------------------------------------\n",
        "plt.plot(epochs, acc, 'r', \"Training Accuracy\")\n",
        "plt.plot(epochs, val_acc, 'b', \"Validation Accuracy\")\n",
        "plt.title('Training and validation accuracy')\n",
        "plt.show()\n",
        "print(\"\")\n",
        "\n",
        "#------------------------------------------------\n",
        "# Plot training and validation loss per epoch\n",
        "#------------------------------------------------\n",
        "plt.plot(epochs, loss, 'r', \"Training Loss\")\n",
        "plt.plot(epochs, val_loss, 'b', \"Validation Loss\")\n",
        "plt.legend()\n",
        "plt.show()"
      ],
      "id": "6767c7f2"
    },
    {
      "cell_type": "code",
      "execution_count": null,
      "metadata": {
        "id": "ouvlj3VXx6MX",
        "colab": {
          "base_uri": "https://localhost:8080/"
        },
        "outputId": "a0514231-6d80-4df4-9548-8fabf4da17f8"
      },
      "outputs": [
        {
          "output_type": "stream",
          "name": "stdout",
          "text": [
            "Loaded model from disk\n"
          ]
        }
      ],
      "source": [
        "from tensorflow.keras.models import Sequential, model_from_json\n",
        "\n",
        "# load json and create model\n",
        "json_file = open('model.json', 'r')\n",
        "loaded_model_json = json_file.read()\n",
        "json_file.close()\n",
        "loaded_model = model_from_json(loaded_model_json)\n",
        "# load weights into new model\n",
        "loaded_model.load_weights(\"model.h5\")\n",
        "print(\"Loaded model from disk\")"
      ],
      "id": "ouvlj3VXx6MX"
    },
    {
      "cell_type": "code",
      "source": [
        "import numpy as np\n",
        "from google.colab import files\n",
        "from tensorflow.keras.utils import load_img, img_to_array\n",
        "\n",
        "uploaded = files.upload()\n",
        "\n",
        "for fn in uploaded.keys():\n",
        " \n",
        "  # predicting images\n",
        "  path = fn\n",
        "  img = load_img(path, target_size=(150, 150))\n",
        "  x = img_to_array(img)\n",
        "  x = np.expand_dims(x, axis=0)\n",
        "\n",
        "  images = np.vstack([x])\n",
        "  prediction = model.predict(images, batch_size=10)\n",
        "\n",
        "  # Mendapatkan indeks maksimum dari hasil prediksi\n",
        "  predicted_label_index = np.argmax(prediction)\n",
        "  # Daftar label yang sesuai dengan indeks prediksi\n",
        "  labels = ['Tanah Aluvial', 'Tanah Gambut', 'Tanah Geluh', 'Tanah Laterit','Tanah Liat','Tanah Vulkanik']\n",
        "\n",
        "  # Mendapatkan label prediksi\n",
        "  predicted_label = labels[predicted_label_index]\n",
        "\n",
        "  print(fn)\n",
        "  print(prediction)\n",
        "  print(f'Hasil prediksi tanah : {predicted_label}')"
      ],
      "metadata": {
        "colab": {
          "base_uri": "https://localhost:8080/",
          "height": 142
        },
        "id": "7WWsNCSuflly",
        "outputId": "611a8969-d6d0-4a26-ddb3-45e7a373604e"
      },
      "id": "7WWsNCSuflly",
      "execution_count": null,
      "outputs": [
        {
          "output_type": "display_data",
          "data": {
            "text/plain": [
              "<IPython.core.display.HTML object>"
            ],
            "text/html": [
              "\n",
              "     <input type=\"file\" id=\"files-926fbe2b-191c-44c9-8dcd-e889c927407d\" name=\"files[]\" multiple disabled\n",
              "        style=\"border:none\" />\n",
              "     <output id=\"result-926fbe2b-191c-44c9-8dcd-e889c927407d\">\n",
              "      Upload widget is only available when the cell has been executed in the\n",
              "      current browser session. Please rerun this cell to enable.\n",
              "      </output>\n",
              "      <script>// Copyright 2017 Google LLC\n",
              "//\n",
              "// Licensed under the Apache License, Version 2.0 (the \"License\");\n",
              "// you may not use this file except in compliance with the License.\n",
              "// You may obtain a copy of the License at\n",
              "//\n",
              "//      http://www.apache.org/licenses/LICENSE-2.0\n",
              "//\n",
              "// Unless required by applicable law or agreed to in writing, software\n",
              "// distributed under the License is distributed on an \"AS IS\" BASIS,\n",
              "// WITHOUT WARRANTIES OR CONDITIONS OF ANY KIND, either express or implied.\n",
              "// See the License for the specific language governing permissions and\n",
              "// limitations under the License.\n",
              "\n",
              "/**\n",
              " * @fileoverview Helpers for google.colab Python module.\n",
              " */\n",
              "(function(scope) {\n",
              "function span(text, styleAttributes = {}) {\n",
              "  const element = document.createElement('span');\n",
              "  element.textContent = text;\n",
              "  for (const key of Object.keys(styleAttributes)) {\n",
              "    element.style[key] = styleAttributes[key];\n",
              "  }\n",
              "  return element;\n",
              "}\n",
              "\n",
              "// Max number of bytes which will be uploaded at a time.\n",
              "const MAX_PAYLOAD_SIZE = 100 * 1024;\n",
              "\n",
              "function _uploadFiles(inputId, outputId) {\n",
              "  const steps = uploadFilesStep(inputId, outputId);\n",
              "  const outputElement = document.getElementById(outputId);\n",
              "  // Cache steps on the outputElement to make it available for the next call\n",
              "  // to uploadFilesContinue from Python.\n",
              "  outputElement.steps = steps;\n",
              "\n",
              "  return _uploadFilesContinue(outputId);\n",
              "}\n",
              "\n",
              "// This is roughly an async generator (not supported in the browser yet),\n",
              "// where there are multiple asynchronous steps and the Python side is going\n",
              "// to poll for completion of each step.\n",
              "// This uses a Promise to block the python side on completion of each step,\n",
              "// then passes the result of the previous step as the input to the next step.\n",
              "function _uploadFilesContinue(outputId) {\n",
              "  const outputElement = document.getElementById(outputId);\n",
              "  const steps = outputElement.steps;\n",
              "\n",
              "  const next = steps.next(outputElement.lastPromiseValue);\n",
              "  return Promise.resolve(next.value.promise).then((value) => {\n",
              "    // Cache the last promise value to make it available to the next\n",
              "    // step of the generator.\n",
              "    outputElement.lastPromiseValue = value;\n",
              "    return next.value.response;\n",
              "  });\n",
              "}\n",
              "\n",
              "/**\n",
              " * Generator function which is called between each async step of the upload\n",
              " * process.\n",
              " * @param {string} inputId Element ID of the input file picker element.\n",
              " * @param {string} outputId Element ID of the output display.\n",
              " * @return {!Iterable<!Object>} Iterable of next steps.\n",
              " */\n",
              "function* uploadFilesStep(inputId, outputId) {\n",
              "  const inputElement = document.getElementById(inputId);\n",
              "  inputElement.disabled = false;\n",
              "\n",
              "  const outputElement = document.getElementById(outputId);\n",
              "  outputElement.innerHTML = '';\n",
              "\n",
              "  const pickedPromise = new Promise((resolve) => {\n",
              "    inputElement.addEventListener('change', (e) => {\n",
              "      resolve(e.target.files);\n",
              "    });\n",
              "  });\n",
              "\n",
              "  const cancel = document.createElement('button');\n",
              "  inputElement.parentElement.appendChild(cancel);\n",
              "  cancel.textContent = 'Cancel upload';\n",
              "  const cancelPromise = new Promise((resolve) => {\n",
              "    cancel.onclick = () => {\n",
              "      resolve(null);\n",
              "    };\n",
              "  });\n",
              "\n",
              "  // Wait for the user to pick the files.\n",
              "  const files = yield {\n",
              "    promise: Promise.race([pickedPromise, cancelPromise]),\n",
              "    response: {\n",
              "      action: 'starting',\n",
              "    }\n",
              "  };\n",
              "\n",
              "  cancel.remove();\n",
              "\n",
              "  // Disable the input element since further picks are not allowed.\n",
              "  inputElement.disabled = true;\n",
              "\n",
              "  if (!files) {\n",
              "    return {\n",
              "      response: {\n",
              "        action: 'complete',\n",
              "      }\n",
              "    };\n",
              "  }\n",
              "\n",
              "  for (const file of files) {\n",
              "    const li = document.createElement('li');\n",
              "    li.append(span(file.name, {fontWeight: 'bold'}));\n",
              "    li.append(span(\n",
              "        `(${file.type || 'n/a'}) - ${file.size} bytes, ` +\n",
              "        `last modified: ${\n",
              "            file.lastModifiedDate ? file.lastModifiedDate.toLocaleDateString() :\n",
              "                                    'n/a'} - `));\n",
              "    const percent = span('0% done');\n",
              "    li.appendChild(percent);\n",
              "\n",
              "    outputElement.appendChild(li);\n",
              "\n",
              "    const fileDataPromise = new Promise((resolve) => {\n",
              "      const reader = new FileReader();\n",
              "      reader.onload = (e) => {\n",
              "        resolve(e.target.result);\n",
              "      };\n",
              "      reader.readAsArrayBuffer(file);\n",
              "    });\n",
              "    // Wait for the data to be ready.\n",
              "    let fileData = yield {\n",
              "      promise: fileDataPromise,\n",
              "      response: {\n",
              "        action: 'continue',\n",
              "      }\n",
              "    };\n",
              "\n",
              "    // Use a chunked sending to avoid message size limits. See b/62115660.\n",
              "    let position = 0;\n",
              "    do {\n",
              "      const length = Math.min(fileData.byteLength - position, MAX_PAYLOAD_SIZE);\n",
              "      const chunk = new Uint8Array(fileData, position, length);\n",
              "      position += length;\n",
              "\n",
              "      const base64 = btoa(String.fromCharCode.apply(null, chunk));\n",
              "      yield {\n",
              "        response: {\n",
              "          action: 'append',\n",
              "          file: file.name,\n",
              "          data: base64,\n",
              "        },\n",
              "      };\n",
              "\n",
              "      let percentDone = fileData.byteLength === 0 ?\n",
              "          100 :\n",
              "          Math.round((position / fileData.byteLength) * 100);\n",
              "      percent.textContent = `${percentDone}% done`;\n",
              "\n",
              "    } while (position < fileData.byteLength);\n",
              "  }\n",
              "\n",
              "  // All done.\n",
              "  yield {\n",
              "    response: {\n",
              "      action: 'complete',\n",
              "    }\n",
              "  };\n",
              "}\n",
              "\n",
              "scope.google = scope.google || {};\n",
              "scope.google.colab = scope.google.colab || {};\n",
              "scope.google.colab._files = {\n",
              "  _uploadFiles,\n",
              "  _uploadFilesContinue,\n",
              "};\n",
              "})(self);\n",
              "</script> "
            ]
          },
          "metadata": {}
        },
        {
          "output_type": "stream",
          "name": "stdout",
          "text": [
            "Saving clay 19.png to clay 19.png\n",
            "1/1 [==============================] - 0s 21ms/step\n",
            "clay 19.png\n",
            "[[0. 0. 0. 0. 1. 0.]]\n",
            "Hasil prediksi tanah : Tanah Liat\n"
          ]
        }
      ]
    },
    {
      "cell_type": "code",
      "source": [
        "#from keras.models import load_model\n",
        "#from keras.preprocessing import image\n",
        "#import keras.utils as image\n",
        "#import matplotlib.pyplot as plt\n",
        "#from google.colab import files\n",
        "#from tensorflow.keras.utils import load_img, img_to_array\n",
        "#import numpy as np\n",
        "#import os\n",
        "#import cv2\n",
        "\n",
        "\n",
        "#def load_image(img_path, show=False):\n",
        "\n",
        "    #img = image.load_img(img_path, target_size=(150, 150))\n",
        "    #img_tensor = image.img_to_array(img)                    # (height, width, channels)\n",
        "    #img_tensor = np.expand_dims(img_tensor, axis=0)         # (1, height, width, channels), add a dimension because the model expects this shape: (batch_size, height, width, channels)\n",
        "    #img_tensor /= 255.                                      # imshow expects values in the range [0, 1]\n",
        "\n",
        "    #if show:\n",
        "        #plt.imshow(img_tensor[0])                           \n",
        "        #plt.axis('off')\n",
        "        #plt.show()\n",
        "\n",
        "    #return img_tensor\n",
        "\n",
        "\n",
        "#img_width, img_height = 150, 150\n",
        "#img = image.load_img('/content/drive/MyDrive/Capstone/Validation/Tanah_Vulkanik/18.jpg', target_size = (img_width, img_height))\n",
        "#img = image.img_to_array(img)\n",
        "#img = np.expand_dims(img, axis = 0)\n",
        "\n",
        "#predict = loaded_model.predict(img)\n",
        "#print (predict)\n",
        "\n",
        "# Mendapatkan indeks maksimum dari hasil prediksi\n",
        "#predicted_label_index = np.argmax(predict)\n",
        "\n",
        "# Daftar label yang sesuai dengan indeks prediksi\n",
        "#labels = ['Tanah_Andosol', 'Tanah_Gambut', 'Tanah_Kuning','Tanah_Laterit', 'Tanah_Vulkanik']\n",
        "\n",
        "# Mendapatkan label prediksi\n",
        "#predicted_label = labels[predicted_label_index]\n",
        "\n",
        "#print(predicted_label)"
      ],
      "metadata": {
        "id": "GsNmuZgDaKpg"
      },
      "id": "GsNmuZgDaKpg",
      "execution_count": null,
      "outputs": []
    },
    {
      "cell_type": "markdown",
      "source": [
        "# **Test Model**"
      ],
      "metadata": {
        "id": "rUGrkJ9G5xWF"
      },
      "id": "rUGrkJ9G5xWF"
    },
    {
      "cell_type": "code",
      "source": [
        "from keras.models import load_model\n",
        "from keras.preprocessing import image\n",
        "from keras.preprocessing.image import ImageDataGenerator\n",
        "import keras.utils as image\n",
        "import matplotlib.pyplot as plt\n",
        "import numpy as np\n",
        "from PIL import Image\n",
        "\n",
        "# Tentukan path folder validasi\n",
        "validation_dir2 = '/content/drive/MyDrive/Capstone/Validation/Yellow_Soil'\n",
        "\n",
        "# Inisialisasi list untuk menyimpan data uji dan label\n",
        "validation_data = []\n",
        "validation_label = []\n",
        "\n",
        "# Baca setiap gambar dalam folder validasi\n",
        "for filename in os.listdir(validation_dir2):\n",
        "    if filename.endswith(\".jpg\"):\n",
        "        path = os.path.join(validation_dir2, filename)\n",
        "        img = Image.open(path)# Buka img menggunakan PIL\n",
        "        img = img.resize((150, 150))         # Ubah ukuran img menjadi 150x150\n",
        "        array_img = np.array(img)\n",
        "        validation_data.append(array_img)\n",
        "        validation_label.append(None)\n",
        "\n",
        "validation_data = np.array(validation_data)\n",
        "prediksi = model.predict(validation_data)\n",
        "\n",
        "predict_label = np.argmax(prediksi, axis=1)\n",
        "\n",
        "# Dapatkan output gambar untuk setiap prediksi\n",
        "img_dir = '/content/drive/MyDrive/Capstone/Validation'  # Ubah dengan jalur folder gambar yang sesuai\n",
        "for i in range(len(predict_label)):\n",
        "    # Konversi array gambar ke objek PIL Image\n",
        "    gambar = Image.fromarray(validation_data[i])\n",
        "    \n",
        "    # Tampilkan gambar dan label prediksi menggunakan matplotlib\n",
        "    plt.imshow(img)\n",
        "    plt.title('Label Prediksi: {}'.format(predict_label[i]))\n",
        "    plt.show()"
      ],
      "metadata": {
        "id": "xH06-Ofp5w0l"
      },
      "id": "xH06-Ofp5w0l",
      "execution_count": null,
      "outputs": []
    },
    {
      "cell_type": "code",
      "source": [],
      "metadata": {
        "id": "OL5IFSGSQrXS"
      },
      "id": "OL5IFSGSQrXS",
      "execution_count": null,
      "outputs": []
    }
  ],
  "metadata": {
    "accelerator": "GPU",
    "colab": {
      "provenance": [],
      "include_colab_link": true
    },
    "kernelspec": {
      "display_name": "Python 3",
      "language": "python",
      "name": "python3"
    },
    "language_info": {
      "codemirror_mode": {
        "name": "ipython",
        "version": 3
      },
      "file_extension": ".py",
      "mimetype": "text/x-python",
      "name": "python",
      "nbconvert_exporter": "python",
      "pygments_lexer": "ipython3",
      "version": "3.7.4"
    }
  },
  "nbformat": 4,
  "nbformat_minor": 5
}